{
 "cells": [
  {
   "cell_type": "code",
   "execution_count": 12,
   "metadata": {},
   "outputs": [
    {
     "name": "stdout",
     "output_type": "stream",
     "text": [
      "Area:  724.511354\n",
      "Perimeter:  95.39320000000001\n"
     ]
    }
   ],
   "source": [
    "class Circle:\n",
    "    def __init__(s,r=15.19):\n",
    "        s.radius=r\n",
    "    def cArea(s):\n",
    "        a=3.14*s.radius**2\n",
    "        return a\n",
    "    def cPerimeter(s):\n",
    "        p=2*3.14*s.radius\n",
    "        return p   \n",
    "# radius=float(input(\"Enter the radius: \"))\n",
    "c1=Circle(radius)\n",
    "print(\"Area: \",c1.cArea())\n",
    "print(\"Perimeter: \",c1.cPerimeter())"
   ]
  },
  {
   "cell_type": "code",
   "execution_count": 26,
   "metadata": {},
   "outputs": [
    {
     "name": "stdout",
     "output_type": "stream",
     "text": [
      "Enter a number to find sq root: 25\n",
      "Sq Root:  5.0\n"
     ]
    }
   ],
   "source": [
    "import math\n",
    "a=float(input(\"Enter a number to find sq root: \"))\n",
    "b=math.sqrt(a)\n",
    "print(\"Sq Root: \", b)"
   ]
  },
  {
   "cell_type": "code",
   "execution_count": 3000,
   "metadata": {},
   "outputs": [
    {
     "data": {
      "text/plain": [
       "1684216075.0930889"
      ]
     },
     "execution_count": 3000,
     "metadata": {},
     "output_type": "execute_result"
    }
   ],
   "source": [
    "import time\n",
    "time.time()"
   ]
  },
  {
   "cell_type": "code",
   "execution_count": 3002,
   "metadata": {},
   "outputs": [
    {
     "name": "stdout",
     "output_type": "stream",
     "text": [
      "Oyy\n",
      "Bhai\n"
     ]
    }
   ],
   "source": [
    "print('Oyy')\n",
    "time.sleep(5)\n",
    "print('Bhai')"
   ]
  },
  {
   "cell_type": "code",
   "execution_count": 3003,
   "metadata": {},
   "outputs": [
    {
     "data": {
      "text/plain": [
       "38.97435053981015"
      ]
     },
     "execution_count": 3003,
     "metadata": {},
     "output_type": "execute_result"
    }
   ],
   "source": [
    "import math as h\n",
    "h.sqrt(1519)"
   ]
  },
  {
   "cell_type": "code",
   "execution_count": 3004,
   "metadata": {},
   "outputs": [],
   "source": [
    "from math import sqrt, pi, log"
   ]
  },
  {
   "cell_type": "code",
   "execution_count": 3005,
   "metadata": {},
   "outputs": [
    {
     "data": {
      "text/plain": [
       "3.141592653589793"
      ]
     },
     "execution_count": 3005,
     "metadata": {},
     "output_type": "execute_result"
    }
   ],
   "source": [
    "pi"
   ]
  },
  {
   "cell_type": "code",
   "execution_count": 3007,
   "metadata": {},
   "outputs": [
    {
     "data": {
      "text/plain": [
       "2.302585092994046"
      ]
     },
     "execution_count": 3007,
     "metadata": {},
     "output_type": "execute_result"
    }
   ],
   "source": [
    "log(10)"
   ]
  },
  {
   "cell_type": "code",
   "execution_count": 3011,
   "metadata": {},
   "outputs": [
    {
     "name": "stdout",
     "output_type": "stream",
     "text": [
      "[5 6 7 2 1 8 3 2 1 6 9 0]\n"
     ]
    }
   ],
   "source": [
    "import numpy as np\n",
    "n=np.array([5,6,7,2,1,8,3,2,1,6,9,0])\n",
    "print(n)"
   ]
  },
  {
   "cell_type": "code",
   "execution_count": null,
   "metadata": {},
   "outputs": [],
   "source": []
  },
  {
   "cell_type": "code",
   "execution_count": null,
   "metadata": {},
   "outputs": [],
   "source": []
  },
  {
   "cell_type": "code",
   "execution_count": null,
   "metadata": {},
   "outputs": [],
   "source": []
  }
 ],
 "metadata": {
  "kernelspec": {
   "display_name": "Python 3",
   "language": "python",
   "name": "python3"
  },
  "language_info": {
   "codemirror_mode": {
    "name": "ipython",
    "version": 3
   },
   "file_extension": ".py",
   "mimetype": "text/x-python",
   "name": "python",
   "nbconvert_exporter": "python",
   "pygments_lexer": "ipython3",
   "version": "3.7.0"
  }
 },
 "nbformat": 4,
 "nbformat_minor": 2
}
